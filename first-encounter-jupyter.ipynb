{
 "cells": [
  {
   "cell_type": "markdown",
   "id": "194c9378",
   "metadata": {},
   "source": [
    "# Working with iPython notebooks\n",
    "\n",
    "## code v. markup"
   ]
  },
  {
   "cell_type": "markdown",
   "id": "f7fee707",
   "metadata": {},
   "source": [
    "Let's explore these basic concepts in this notebook."
   ]
  },
  {
   "cell_type": "code",
   "execution_count": 11,
   "id": "31db5ce2",
   "metadata": {},
   "outputs": [
    {
     "name": "stdout",
     "output_type": "stream",
     "text": [
      "Hello World\n"
     ]
    }
   ],
   "source": [
    "# Traditional kickoff for learning to code\n",
    "print(\"Hello World\")"
   ]
  },
  {
   "cell_type": "code",
   "execution_count": 13,
   "id": "6811fd5b",
   "metadata": {},
   "outputs": [
    {
     "name": "stdout",
     "output_type": "stream",
     "text": [
      "Python 3.9.13\r\n"
     ]
    }
   ],
   "source": [
    "## check what version of Python I have on my computer\n",
    "!python --version"
   ]
  },
  {
   "cell_type": "code",
   "execution_count": 15,
   "id": "499d61d3",
   "metadata": {},
   "outputs": [
    {
     "data": {
      "text/plain": [
       "4"
      ]
     },
     "execution_count": 15,
     "metadata": {},
     "output_type": "execute_result"
    }
   ],
   "source": [
    "## validating addition\n",
    "2 + 2 "
   ]
  },
  {
   "cell_type": "code",
   "execution_count": 16,
   "id": "dbe6b5e6",
   "metadata": {},
   "outputs": [
    {
     "data": {
      "text/plain": [
       "5.0"
      ]
     },
     "execution_count": 16,
     "metadata": {},
     "output_type": "execute_result"
    }
   ],
   "source": [
    "## simple division\n",
    "25 / 5"
   ]
  },
  {
   "cell_type": "code",
   "execution_count": 17,
   "id": "5753e837",
   "metadata": {},
   "outputs": [
    {
     "data": {
      "text/plain": [
       "1"
      ]
     },
     "execution_count": 17,
     "metadata": {},
     "output_type": "execute_result"
    }
   ],
   "source": [
    "## modulus \n",
    "\n",
    "25 % 2"
   ]
  },
  {
   "cell_type": "markdown",
   "id": "94f1aa50",
   "metadata": {},
   "source": [
    "## List of favorite fruits\n",
    "\n",
    "Here are Gretchen's favorite fruits:\n",
    "\n",
    "* Apples\n",
    "* Oranges\n",
    "* Mangoes\n",
    "\n",
    "## Source of data: \n",
    "I found this data on the <a href=\"https://www.census.gov/\">U.S. Census site.\n",
    "\n",
    "Another way would be to provide the [link like this] ("
   ]
  },
  {
   "cell_type": "code",
   "execution_count": null,
   "id": "9b5e6f7e",
   "metadata": {},
   "outputs": [],
   "source": []
  }
 ],
 "metadata": {
  "kernelspec": {
   "display_name": "Python 3 (ipykernel)",
   "language": "python",
   "name": "python3"
  },
  "language_info": {
   "codemirror_mode": {
    "name": "ipython",
    "version": 3
   },
   "file_extension": ".py",
   "mimetype": "text/x-python",
   "name": "python",
   "nbconvert_exporter": "python",
   "pygments_lexer": "ipython3",
   "version": "3.9.13"
  }
 },
 "nbformat": 4,
 "nbformat_minor": 5
}
