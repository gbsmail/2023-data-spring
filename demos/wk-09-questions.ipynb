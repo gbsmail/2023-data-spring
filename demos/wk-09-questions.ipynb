{
 "cells": [
  {
   "cell_type": "code",
   "execution_count": 1,
   "id": "793ba965",
   "metadata": {},
   "outputs": [],
   "source": [
    "import pandas as pd "
   ]
  },
  {
   "cell_type": "code",
   "execution_count": 3,
   "id": "28e85ea6",
   "metadata": {},
   "outputs": [
    {
     "data": {
      "text/html": [
       "<div>\n",
       "<style scoped>\n",
       "    .dataframe tbody tr th:only-of-type {\n",
       "        vertical-align: middle;\n",
       "    }\n",
       "\n",
       "    .dataframe tbody tr th {\n",
       "        vertical-align: top;\n",
       "    }\n",
       "\n",
       "    .dataframe thead th {\n",
       "        text-align: right;\n",
       "    }\n",
       "</style>\n",
       "<table border=\"1\" class=\"dataframe\">\n",
       "  <thead>\n",
       "    <tr style=\"text-align: right;\">\n",
       "      <th></th>\n",
       "      <th>rideable_type</th>\n",
       "      <th>started_at</th>\n",
       "      <th>ended_at</th>\n",
       "      <th>member_casual</th>\n",
       "    </tr>\n",
       "  </thead>\n",
       "  <tbody>\n",
       "    <tr>\n",
       "      <th>0</th>\n",
       "      <td>classic_bike</td>\n",
       "      <td>7/21/22 18:19</td>\n",
       "      <td>7/21/22 18:28</td>\n",
       "      <td>member</td>\n",
       "    </tr>\n",
       "    <tr>\n",
       "      <th>1</th>\n",
       "      <td>electric_bike</td>\n",
       "      <td>7/21/22 17:50</td>\n",
       "      <td>7/21/22 17:59</td>\n",
       "      <td>casual</td>\n",
       "    </tr>\n",
       "    <tr>\n",
       "      <th>2</th>\n",
       "      <td>electric_bike</td>\n",
       "      <td>7/23/22 11:51</td>\n",
       "      <td>7/23/22 11:59</td>\n",
       "      <td>member</td>\n",
       "    </tr>\n",
       "    <tr>\n",
       "      <th>3</th>\n",
       "      <td>classic_bike</td>\n",
       "      <td>7/30/22 20:34</td>\n",
       "      <td>7/30/22 20:48</td>\n",
       "      <td>member</td>\n",
       "    </tr>\n",
       "    <tr>\n",
       "      <th>4</th>\n",
       "      <td>classic_bike</td>\n",
       "      <td>7/14/22 18:42</td>\n",
       "      <td>7/14/22 18:49</td>\n",
       "      <td>casual</td>\n",
       "    </tr>\n",
       "    <tr>\n",
       "      <th>...</th>\n",
       "      <td>...</td>\n",
       "      <td>...</td>\n",
       "      <td>...</td>\n",
       "      <td>...</td>\n",
       "    </tr>\n",
       "    <tr>\n",
       "      <th>108497</th>\n",
       "      <td>classic_bike</td>\n",
       "      <td>7/10/22 15:03</td>\n",
       "      <td>7/10/22 15:09</td>\n",
       "      <td>member</td>\n",
       "    </tr>\n",
       "    <tr>\n",
       "      <th>108498</th>\n",
       "      <td>classic_bike</td>\n",
       "      <td>7/6/22 11:58</td>\n",
       "      <td>7/6/22 12:04</td>\n",
       "      <td>casual</td>\n",
       "    </tr>\n",
       "    <tr>\n",
       "      <th>108499</th>\n",
       "      <td>electric_bike</td>\n",
       "      <td>7/20/22 16:10</td>\n",
       "      <td>7/20/22 16:41</td>\n",
       "      <td>casual</td>\n",
       "    </tr>\n",
       "    <tr>\n",
       "      <th>108500</th>\n",
       "      <td>classic_bike</td>\n",
       "      <td>7/15/22 16:17</td>\n",
       "      <td>7/15/22 16:24</td>\n",
       "      <td>casual</td>\n",
       "    </tr>\n",
       "    <tr>\n",
       "      <th>108501</th>\n",
       "      <td>electric_bike</td>\n",
       "      <td>7/18/22 21:24</td>\n",
       "      <td>7/18/22 21:35</td>\n",
       "      <td>casual</td>\n",
       "    </tr>\n",
       "  </tbody>\n",
       "</table>\n",
       "<p>108502 rows × 4 columns</p>\n",
       "</div>"
      ],
      "text/plain": [
       "        rideable_type     started_at       ended_at member_casual\n",
       "0        classic_bike  7/21/22 18:19  7/21/22 18:28        member\n",
       "1       electric_bike  7/21/22 17:50  7/21/22 17:59        casual\n",
       "2       electric_bike  7/23/22 11:51  7/23/22 11:59        member\n",
       "3        classic_bike  7/30/22 20:34  7/30/22 20:48        member\n",
       "4        classic_bike  7/14/22 18:42  7/14/22 18:49        casual\n",
       "...               ...            ...            ...           ...\n",
       "108497   classic_bike  7/10/22 15:03  7/10/22 15:09        member\n",
       "108498   classic_bike   7/6/22 11:58   7/6/22 12:04        casual\n",
       "108499  electric_bike  7/20/22 16:10  7/20/22 16:41        casual\n",
       "108500   classic_bike  7/15/22 16:17  7/15/22 16:24        casual\n",
       "108501  electric_bike  7/18/22 21:24  7/18/22 21:35        casual\n",
       "\n",
       "[108502 rows x 4 columns]"
      ]
     },
     "execution_count": 3,
     "metadata": {},
     "output_type": "execute_result"
    }
   ],
   "source": [
    "df = pd.read_csv(\"https://raw.githubusercontent.com/sandeepmj/datasets/main/datetime/citbike-tripdata.csv\")\n",
    "df"
   ]
  },
  {
   "cell_type": "code",
   "execution_count": 4,
   "id": "c14c02be",
   "metadata": {},
   "outputs": [
    {
     "name": "stdout",
     "output_type": "stream",
     "text": [
      "<class 'pandas.core.frame.DataFrame'>\n",
      "RangeIndex: 108502 entries, 0 to 108501\n",
      "Data columns (total 4 columns):\n",
      " #   Column         Non-Null Count   Dtype \n",
      "---  ------         --------------   ----- \n",
      " 0   rideable_type  108502 non-null  object\n",
      " 1   started_at     108502 non-null  object\n",
      " 2   ended_at       108502 non-null  object\n",
      " 3   member_casual  108502 non-null  object\n",
      "dtypes: object(4)\n",
      "memory usage: 3.3+ MB\n"
     ]
    }
   ],
   "source": [
    "df.info()"
   ]
  },
  {
   "cell_type": "code",
   "execution_count": 5,
   "id": "fdccff6d",
   "metadata": {},
   "outputs": [],
   "source": [
    "f_name = \"sandeep\"\n",
    "l_name = \"junnarkar\"\n",
    "age = 57"
   ]
  },
  {
   "cell_type": "code",
   "execution_count": 6,
   "id": "16b8c5c6",
   "metadata": {},
   "outputs": [
    {
     "name": "stdout",
     "output_type": "stream",
     "text": [
      "sandeep\n"
     ]
    }
   ],
   "source": [
    "##if you hit tab + shift it'll give you all these options\n",
    "## () are for functions/methods\n",
    "print(f_name)"
   ]
  },
  {
   "cell_type": "code",
   "execution_count": 7,
   "id": "ee193430",
   "metadata": {},
   "outputs": [
    {
     "name": "stdout",
     "output_type": "stream",
     "text": [
      "Dog is cute\n"
     ]
    }
   ],
   "source": [
    "##make a string/object\n",
    "print(\"Dog is cute\")"
   ]
  },
  {
   "cell_type": "code",
   "execution_count": 8,
   "id": "a870ee78",
   "metadata": {},
   "outputs": [
    {
     "name": "stdout",
     "output_type": "stream",
     "text": [
      "5\n"
     ]
    }
   ],
   "source": [
    "##make a number\n",
    "print(5)"
   ]
  },
  {
   "cell_type": "code",
   "execution_count": 11,
   "id": "caa35ccd",
   "metadata": {},
   "outputs": [
    {
     "name": "stdout",
     "output_type": "stream",
     "text": [
      "junnarkar||sandeep\n"
     ]
    }
   ],
   "source": [
    "print(l_name, f_name, sep = \"||\")"
   ]
  },
  {
   "cell_type": "code",
   "execution_count": 12,
   "id": "87304407",
   "metadata": {},
   "outputs": [
    {
     "data": {
      "text/plain": [
       "(108502, 4)"
      ]
     },
     "execution_count": 12,
     "metadata": {},
     "output_type": "execute_result"
    }
   ],
   "source": [
    "df.shape"
   ]
  },
  {
   "cell_type": "code",
   "execution_count": 14,
   "id": "7a23a5d5",
   "metadata": {},
   "outputs": [
    {
     "data": {
      "text/plain": [
       "array(['classic_bike', 'electric_bike', 'docked_bike'], dtype=object)"
      ]
     },
     "execution_count": 14,
     "metadata": {},
     "output_type": "execute_result"
    }
   ],
   "source": [
    "##have to tell it a column for unique\n",
    "df[\"rideable_type\"].unique()"
   ]
  },
  {
   "cell_type": "code",
   "execution_count": 15,
   "id": "1c7f0fed",
   "metadata": {},
   "outputs": [
    {
     "data": {
      "text/plain": [
       "3"
      ]
     },
     "execution_count": 15,
     "metadata": {},
     "output_type": "execute_result"
    }
   ],
   "source": [
    "df[\"rideable_type\"].nunique()"
   ]
  },
  {
   "cell_type": "code",
   "execution_count": 18,
   "id": "e0d639a5",
   "metadata": {},
   "outputs": [],
   "source": [
    "##df.groupby(column name 1) creates an obj that has grouped values / \n",
    "##by a chosen column\n",
    "##save it into a varialbe group = type_gb = df.groupby(i.e. \"schooltype\")"
   ]
  },
  {
   "cell_type": "code",
   "execution_count": null,
   "id": "3ef61139",
   "metadata": {},
   "outputs": [],
   "source": []
  }
 ],
 "metadata": {
  "kernelspec": {
   "display_name": "Python 3 (ipykernel)",
   "language": "python",
   "name": "python3"
  },
  "language_info": {
   "codemirror_mode": {
    "name": "ipython",
    "version": 3
   },
   "file_extension": ".py",
   "mimetype": "text/x-python",
   "name": "python",
   "nbconvert_exporter": "python",
   "pygments_lexer": "ipython3",
   "version": "3.9.13"
  }
 },
 "nbformat": 4,
 "nbformat_minor": 5
}
